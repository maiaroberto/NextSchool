{
  "nbformat": 4,
  "nbformat_minor": 0,
  "metadata": {
    "colab": {
      "name": "Maia [E] Aula 04 - Vetores e Estruturas de Repetição.ipynb",
      "provenance": [],
      "collapsed_sections": [],
      "include_colab_link": true
    },
    "kernelspec": {
      "name": "python3",
      "display_name": "Python 3"
    },
    "language_info": {
      "name": "python"
    }
  },
  "cells": [
    {
      "cell_type": "markdown",
      "metadata": {
        "id": "view-in-github",
        "colab_type": "text"
      },
      "source": [
        "<a href=\"https://colab.research.google.com/github/maiaroberto/NextSchool/blob/main/Maia_%5BE%5D_Aula_04_Vetores_e_Estruturas_de_Repeti%C3%A7%C3%A3o.ipynb\" target=\"_parent\"><img src=\"https://colab.research.google.com/assets/colab-badge.svg\" alt=\"Open In Colab\"/></a>"
      ]
    },
    {
      "cell_type": "markdown",
      "metadata": {
        "id": "tRvcy-qw7juT"
      },
      "source": [
        "<img src=\"https://www.cesar.school/wp-content/uploads/2019/09/marca_cesar_school.png\" alt=\"drawing\" width=\"200\"/>\n",
        "\n",
        "# Python - **Aula 04**\n",
        "\n",
        "---\n",
        "\n",
        "- Vetores\n",
        "- Estruturas de Repetição"
      ]
    },
    {
      "cell_type": "markdown",
      "metadata": {
        "id": "FgyHxW3DZWcz"
      },
      "source": [
        "# Vetores"
      ]
    },
    {
      "cell_type": "markdown",
      "metadata": {
        "id": "h5TpNll7b3B7"
      },
      "source": [
        "\n",
        "Variáveis são incríveis, mas as vezes você precisa de mais:\n",
        "- Lista de filmes que você que assistir;\n",
        "- Lista de compras no supermercado;\n",
        "- Lista de convidados em uma festa;\n",
        "\n",
        "Para todos esses casos é difícil dizer com precisão quantas variáveis precisariam ser criadas. Neste caso podemos usar uma estrutura de dados chamada **lista** (ou *array*).\n",
        "\n",
        "Listas também são usadas quando desejamos agrupar vários valores de um mesmo contexto:\n",
        "- Notas dos estudantes de uma turma;\n",
        "- Catálogo de livros em uma biblioteca;\n",
        "\n",
        "Nesses casos, a quantidade não é o mais importante, mas sim a facilidade de ter agrupado valores de um mesmo tipo.\n",
        "\n",
        "## Listas\n",
        "\n",
        "### Tipo `list`\n",
        "\n",
        "> Coleções de itens em uma orgem específica.\n",
        "> *Ex.: Letras do alfabeto, números de 0 a 100, produtos de um supermercado...*"
      ]
    },
    {
      "cell_type": "markdown",
      "metadata": {
        "id": "Af0vcV1zb6Da"
      },
      "source": [
        "# Criando uma lista\n",
        "\n",
        "Listas são criadas de forma semelhate ao de uma variável comum, mas a ela é atribuída valores diversos, usando colchetes `[]`"
      ]
    },
    {
      "cell_type": "code",
      "metadata": {
        "id": "lc4OMFrrb8iW",
        "colab": {
          "base_uri": "https://localhost:8080/"
        },
        "outputId": "67859a46-f920-4ba2-fe21-4fe3036ca242"
      },
      "source": [
        "# Lista de convidados\n",
        "lista = ['Jose', 'Lucas', 'Ana', 'Enzo', 'Valentina']\n",
        "print(lista)\n",
        "print(type(lista))\n",
        "convidados = 'Jose,Lucas,Ana,Enzo,Valentina'.split(',')\n",
        "print(convidados)\n",
        "print(type(convidados))\n",
        "numeros = [1, 2, 3, 4, 5, 6, 7, 8, 9]\n",
        "print(numeros)\n",
        "print(type(numeros))\n",
        "print(type(numeros[-1]))"
      ],
      "execution_count": 8,
      "outputs": [
        {
          "output_type": "stream",
          "text": [
            "['Jose', 'Lucas', 'Ana', 'Enzo', 'Valentina']\n",
            "<class 'list'>\n",
            "['Jose', 'Lucas', 'Ana', 'Enzo', 'Valentina']\n",
            "<class 'list'>\n",
            "[1, 2, 3, 4, 5, 6, 7, 8, 9]\n",
            "<class 'list'>\n",
            "<class 'int'>\n"
          ],
          "name": "stdout"
        }
      ]
    },
    {
      "cell_type": "markdown",
      "metadata": {
        "id": "K2zfF6BYcA1J"
      },
      "source": [
        "# Exibindo uma lista\n",
        "\n",
        "Como listas são coleções ordenadas, é possível acessar qualquer um dos seus itens armazenados se você indicar a posição (índice) deles.\n",
        "\n",
        "> Obs.: Os índices sempre começam a ser contados do 0.\n",
        "\n",
        "![image.png](data:image/png;base64,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)"
      ]
    },
    {
      "cell_type": "code",
      "metadata": {
        "id": "oSluOrJAcFIq",
        "colab": {
          "base_uri": "https://localhost:8080/"
        },
        "outputId": "d7f1cc12-36cb-4362-a16a-1de96b29112b"
      },
      "source": [
        "convidados = ['José', 'Lucas', 'Ana', 'Enzo', 'Valentina']\n",
        "\n",
        "# primeiro elemento\n",
        "print(convidados[0])\n",
        "\n",
        "# segundo elemento\n",
        "print(convidados[1])\n",
        "\n",
        "# último elemento\n",
        "print(convidados[-1])\n",
        "\n",
        "# penúltimo elemento\n",
        "print(convidados[-2][0]) # primeira letra do penúltimo elemento"
      ],
      "execution_count": 10,
      "outputs": [
        {
          "output_type": "stream",
          "text": [
            "José\n",
            "Lucas\n",
            "Valentina\n",
            "E\n"
          ],
          "name": "stdout"
        }
      ]
    },
    {
      "cell_type": "markdown",
      "metadata": {
        "id": "s4o5keVfcB5H"
      },
      "source": [
        "# Alterando uma lista\n",
        "\n",
        "Em Python, **listas são dinâmicas**, ou seja, é possível alterar seus valores."
      ]
    },
    {
      "cell_type": "code",
      "metadata": {
        "id": "tRosLJCXcHkJ",
        "colab": {
          "base_uri": "https://localhost:8080/"
        },
        "outputId": "0479b8ce-15bf-42ed-c1a9-b2fb1cc73943"
      },
      "source": [
        "# substituindo o primeiro convidado\n",
        "convidados = ['José', 'Lucas', 'Ana', 'Enzo', 'Valentina']\n",
        "convidados[0] = 'Roberto'\n",
        "print(convidados)"
      ],
      "execution_count": 12,
      "outputs": [
        {
          "output_type": "stream",
          "text": [
            "['Roberto', 'Lucas', 'Ana', 'Enzo', 'Valentina']\n"
          ],
          "name": "stdout"
        }
      ]
    },
    {
      "cell_type": "markdown",
      "metadata": {
        "id": "AhYtTe9zcJ7O"
      },
      "source": [
        "# Acrescentando e removendo itens\n",
        "\n",
        "As listas podem crescer ou diminuir com o tempo, por isso, é importante aprender como adicionar e remover elementos."
      ]
    },
    {
      "cell_type": "markdown",
      "metadata": {
        "id": "Cbno7GqUcMCn"
      },
      "source": [
        "## Concatenando no final da lista\n",
        "\n",
        "`append(elem)`"
      ]
    },
    {
      "cell_type": "code",
      "metadata": {
        "id": "AwYgbD-bcN9X",
        "colab": {
          "base_uri": "https://localhost:8080/"
        },
        "outputId": "4a89ff7a-4e41-4219-f292-5bcaec562466"
      },
      "source": [
        "convidados = ['José', 'Lucas', 'Ana', 'Enzo', 'Valentina']\n",
        "convidados.append('Maia')\n",
        "print(convidados)"
      ],
      "execution_count": 14,
      "outputs": [
        {
          "output_type": "stream",
          "text": [
            "['José', 'Lucas', 'Ana', 'Enzo', 'Valentina', 'Maia']\n"
          ],
          "name": "stdout"
        }
      ]
    },
    {
      "cell_type": "markdown",
      "metadata": {
        "id": "tLQOsA95cQWe"
      },
      "source": [
        "## Adicionando em qualquer posição\n",
        "\n",
        "`insert(pos, elem)`"
      ]
    },
    {
      "cell_type": "code",
      "metadata": {
        "id": "toEqiswEcSA6",
        "colab": {
          "base_uri": "https://localhost:8080/"
        },
        "outputId": "4abe2c8a-5e93-4618-b81f-0674a3b64306"
      },
      "source": [
        "convidados = ['José', 'Lucas', 'Ana', 'Enzo', 'Valentina']\n",
        "convidados.insert(0,'Neto')\n",
        "print(convidados)"
      ],
      "execution_count": 15,
      "outputs": [
        {
          "output_type": "stream",
          "text": [
            "['Neto', 'José', 'Lucas', 'Ana', 'Enzo', 'Valentina']\n"
          ],
          "name": "stdout"
        }
      ]
    },
    {
      "cell_type": "markdown",
      "metadata": {
        "id": "u8O_4Z8kcUEP"
      },
      "source": [
        "\n",
        "## Removendo um elemento específico\n",
        "\n",
        "`del(lista[pos])`"
      ]
    },
    {
      "cell_type": "code",
      "metadata": {
        "id": "iAP44KgncWeI",
        "colab": {
          "base_uri": "https://localhost:8080/"
        },
        "outputId": "160eaff0-08ba-4163-8e8c-4c8faadadda2"
      },
      "source": [
        "del(convidados[0])\n",
        "print(convidados)"
      ],
      "execution_count": 16,
      "outputs": [
        {
          "output_type": "stream",
          "text": [
            "['José', 'Lucas', 'Ana', 'Enzo', 'Valentina']\n"
          ],
          "name": "stdout"
        }
      ]
    },
    {
      "cell_type": "markdown",
      "metadata": {
        "id": "FTeNO0DScYm9"
      },
      "source": [
        "## Removendo o último elemento (ou algum elemento por posição)\n",
        "\n",
        "`elem_removido = lista.pop()`\n",
        "\n",
        "`elem_removido = lista.pop(pos)`"
      ]
    },
    {
      "cell_type": "code",
      "metadata": {
        "id": "SQEWVD8PcaMF",
        "colab": {
          "base_uri": "https://localhost:8080/"
        },
        "outputId": "ac582293-694c-42b4-cd34-f64f53825242"
      },
      "source": [
        "convidados = ['José', 'Lucas', 'Ana', 'Enzo', 'Valentina']\n",
        "convidados.pop()\n",
        "print(convidados)"
      ],
      "execution_count": 17,
      "outputs": [
        {
          "output_type": "stream",
          "text": [
            "['José', 'Lucas', 'Ana', 'Enzo']\n"
          ],
          "name": "stdout"
        }
      ]
    },
    {
      "cell_type": "code",
      "metadata": {
        "colab": {
          "base_uri": "https://localhost:8080/"
        },
        "id": "Ziy_HelCq1BL",
        "outputId": "ef883ee9-cf71-4a30-ca08-a09cfa8344bc"
      },
      "source": [
        "convidados = ['José', 'Lucas', 'Ana', 'Enzo', 'Valentina']\n",
        "convidados.pop(0)\n",
        "print(convidados)"
      ],
      "execution_count": 18,
      "outputs": [
        {
          "output_type": "stream",
          "text": [
            "['Lucas', 'Ana', 'Enzo', 'Valentina']\n"
          ],
          "name": "stdout"
        }
      ]
    },
    {
      "cell_type": "markdown",
      "metadata": {
        "id": "2649jQAMccWE"
      },
      "source": [
        "## Removendo elemento por busca\n",
        "\n",
        "`lista.remove(elem)`"
      ]
    },
    {
      "cell_type": "code",
      "metadata": {
        "id": "Bn3G5OOXcc9M",
        "colab": {
          "base_uri": "https://localhost:8080/"
        },
        "outputId": "4b2d9309-c902-4bf4-ee56-fe1a3fd313a8"
      },
      "source": [
        "convidados = ['José', 'Lucas', 'Ana', 'Enzo', 'Valentina']\n",
        "print(convidados)\n",
        "convidados.remove('Ana')  # se o elemento não existir ocorre um erro ValueError: list.remove(x): x not in list\n",
        "print(convidados)"
      ],
      "execution_count": 21,
      "outputs": [
        {
          "output_type": "stream",
          "text": [
            "['José', 'Lucas', 'Ana', 'Enzo', 'Valentina']\n",
            "['José', 'Lucas', 'Enzo', 'Valentina']\n"
          ],
          "name": "stdout"
        }
      ]
    },
    {
      "cell_type": "markdown",
      "metadata": {
        "id": "BkL4k0dWcfcD"
      },
      "source": [
        "# Organizando listas\n",
        "\n",
        "Muitas vezes, é necessário ter as lista ordenadas. Quando uma lista é extaída a partir da entrada de um usuário, é comum que ela venha fora de ordem."
      ]
    },
    {
      "cell_type": "markdown",
      "metadata": {
        "id": "0b4EH2-FchpS"
      },
      "source": [
        "## Ordem alfabética (definitiva)\n",
        "\n",
        "```\n",
        "lista.sort()\n",
        "```\n",
        "\n",
        "```python\n",
        "lista.sort(reverse=True)\n",
        "```\n",
        "\n",
        "> Obs.: *Desta forma, a lista é modificada*"
      ]
    },
    {
      "cell_type": "code",
      "metadata": {
        "id": "lPBEnt_3cjjd",
        "colab": {
          "base_uri": "https://localhost:8080/"
        },
        "outputId": "cc329025-79dc-4ccd-ec44-2e887b3176ef"
      },
      "source": [
        "convidados = ['José', 'Lucas', 'Ana', 'Enzo', 'Valentina']\n",
        "convidados.sort()\n",
        "print(convidados)\n",
        "convidados.sort(reverse=True) # modifica a lista, mas não retorna ela ordenada, não da para usar direto no print\n",
        "print(convidados)"
      ],
      "execution_count": 25,
      "outputs": [
        {
          "output_type": "stream",
          "text": [
            "['Ana', 'Enzo', 'José', 'Lucas', 'Valentina']\n",
            "['Valentina', 'Lucas', 'José', 'Enzo', 'Ana']\n"
          ],
          "name": "stdout"
        }
      ]
    },
    {
      "cell_type": "markdown",
      "metadata": {
        "id": "c6L3SWY6coEb"
      },
      "source": [
        "## Ordem alfabética (visualização)\n",
        "\n",
        "```python\n",
        "nova_lista = sorted(lista)\n",
        "```\n",
        "\n",
        "```python\n",
        "nova_lista = sorted(lista, reverse=True)\n",
        "```\n",
        "\n",
        "> Obs.: Tanto a função `sort()` quanto a `sorted()` só ordenam listas que tenham números ou strings, mas não ambos ao mesmo tempo. Para isso, seria necessário usar a função `str()` para converter os números em strings."
      ]
    },
    {
      "cell_type": "code",
      "metadata": {
        "id": "KQmAWIeXcqjU",
        "colab": {
          "base_uri": "https://localhost:8080/"
        },
        "outputId": "3dbd7ab5-1281-42c8-d350-8da1eec670d8"
      },
      "source": [
        "# Sort modifica a lista em si, enquant o Sorted retorna  uma nova lista. \n",
        "convidados = ['José', 'Lucas', 'Ana', 'Enzo', 'Valentina']\n",
        "print(sorted(convidados, reverse=True))\n",
        "print(convidados)"
      ],
      "execution_count": 27,
      "outputs": [
        {
          "output_type": "stream",
          "text": [
            "['Valentina', 'Lucas', 'José', 'Enzo', 'Ana']\n",
            "['José', 'Lucas', 'Ana', 'Enzo', 'Valentina']\n"
          ],
          "name": "stdout"
        }
      ]
    },
    {
      "cell_type": "markdown",
      "metadata": {
        "id": "MCmWIMaacwdU"
      },
      "source": [
        "## Invertendo a ordem de inserção\n",
        "\n",
        "```python\n",
        "lista.reverse()\n",
        "```"
      ]
    },
    {
      "cell_type": "code",
      "metadata": {
        "id": "RUr3ngpAcxVJ",
        "colab": {
          "base_uri": "https://localhost:8080/"
        },
        "outputId": "17cd7682-7ec0-47ec-8ab4-18f2cd4d7425"
      },
      "source": [
        "convidados = ['José', 'Lucas', 'Ana', 'Enzo', 'Valentina']\n",
        "convidados.reverse()\n",
        "print(convidados)\n",
        "\n",
        "numeros = [1, 2, 3, 4, 5, 6, 7, 8, 9]\n",
        "numeros.reverse()\n",
        "print(numeros)"
      ],
      "execution_count": 32,
      "outputs": [
        {
          "output_type": "stream",
          "text": [
            "['Valentina', 'Enzo', 'Ana', 'Lucas', 'José']\n",
            "[9, 8, 7, 6, 5, 4, 3, 2, 1]\n"
          ],
          "name": "stdout"
        }
      ]
    },
    {
      "cell_type": "markdown",
      "metadata": {
        "id": "9YbH2ze-c1AK"
      },
      "source": [
        "# Outros métodos úteis"
      ]
    },
    {
      "cell_type": "code",
      "metadata": {
        "id": "9oWGOZjRc1xe",
        "colab": {
          "base_uri": "https://localhost:8080/"
        },
        "outputId": "24b5996e-6f05-44be-8078-105aedb0558b"
      },
      "source": [
        "convidados = ['José', 'Lucas', 'Ana', 'Enzo', 'Valentina']\n",
        "\n",
        "# tamanho de uma lista\n",
        "print(len(convidados))\n",
        "\n",
        "# criar lista de números\n",
        "print(list(range(5, 11)))\n",
        "\n",
        "# menor valor da lista\n",
        "n = [10, 12, 3, 4, 11, 76, 1]\n",
        "print(min(n))\n",
        "\n",
        "# maior valor da lista\n",
        "print(max(n))\n",
        "\n",
        "# fatia de uma lista\n",
        "print(n[1:3])\n",
        "\n",
        "# criar uma cópia de uma lista\n",
        "b = n   # São a mesma lista\n",
        "c = n[:] # agora sim é uma copia\n",
        "print(b)\n",
        "print(c)\n",
        "\n",
        "# somar todos os elementos de uma lista (números)\n",
        "print(n)\n",
        "x = sum(n)\n",
        "print(x)\n",
        "print(numeros)\n",
        "print(sum(numeros[:5]))"
      ],
      "execution_count": 38,
      "outputs": [
        {
          "output_type": "stream",
          "text": [
            "5\n",
            "[5, 6, 7, 8, 9, 10]\n",
            "1\n",
            "76\n",
            "[12, 3]\n",
            "[10, 12, 3, 4, 11, 76, 1]\n",
            "[10, 12, 3, 4, 11, 76, 1]\n",
            "[10, 12, 3, 4, 11, 76, 1]\n",
            "117\n",
            "[9, 8, 7, 6, 5, 4, 3, 2, 1]\n",
            "35\n"
          ],
          "name": "stdout"
        }
      ]
    },
    {
      "cell_type": "markdown",
      "metadata": {
        "id": "hFhsXFYmZYkP"
      },
      "source": [
        "# Estruturas de Repetição"
      ]
    },
    {
      "cell_type": "markdown",
      "metadata": {
        "id": "5GYjSPAqavSZ"
      },
      "source": [
        "Em Python, é possível controlar o fluxo de execução de um código com estruturas de repetição"
      ]
    },
    {
      "cell_type": "code",
      "metadata": {
        "id": "DelBniYNaxwu",
        "colab": {
          "base_uri": "https://localhost:8080/"
        },
        "outputId": "7918f141-2324-4bd5-fb76-25f3ebbd233f"
      },
      "source": [
        "lista = ['item1', 'item2', 'item3', 'item4', 'item5']\n",
        "\n",
        "print(lista[0] + ' é um item dessa lista')\n",
        "print(lista[1] + ' é um item dessa lista')\n",
        "print(lista[2] + ' é um item dessa lista')\n",
        "print(lista[3] + ' é um item dessa lista')\n",
        "print(lista[4] + ' é um item dessa lista')"
      ],
      "execution_count": 39,
      "outputs": [
        {
          "output_type": "stream",
          "text": [
            "item1 é um item dessa lista\n",
            "item2 é um item dessa lista\n",
            "item3 é um item dessa lista\n",
            "item4 é um item dessa lista\n",
            "item5 é um item dessa lista\n"
          ],
          "name": "stdout"
        }
      ]
    },
    {
      "cell_type": "markdown",
      "metadata": {
        "id": "qbqhZEZfa17m"
      },
      "source": [
        "## `For`\n",
        "\n",
        "Essa estrutura é um iterador, ou seja, ele percorre itens que estão em sequência, tais como listas ou strings.\n",
        "\n",
        "\n",
        "\n",
        "```python\n",
        "for item in objeto:\n",
        "  # código que vai repetir\n",
        "```\n",
        "\n"
      ]
    },
    {
      "cell_type": "code",
      "metadata": {
        "id": "xOzR_X-2a37c",
        "colab": {
          "base_uri": "https://localhost:8080/"
        },
        "outputId": "7c9c3e29-7da7-4fa8-f5dc-e6cf675dcc6d"
      },
      "source": [
        "numeros = [1, 2, 3, 4, 5, 6, 7, 8, 9, 10]\n",
        "for numero in numeros[:4:-1]:\n",
        "    print(numero)"
      ],
      "execution_count": 45,
      "outputs": [
        {
          "output_type": "stream",
          "text": [
            "10\n",
            "9\n",
            "8\n",
            "7\n",
            "6\n"
          ],
          "name": "stdout"
        }
      ]
    },
    {
      "cell_type": "code",
      "metadata": {
        "id": "4TXqsfwya5Ws",
        "colab": {
          "base_uri": "https://localhost:8080/"
        },
        "outputId": "b8639f9f-afa6-4f76-9de0-6b7f22bcca1d"
      },
      "source": [
        "#range(1, 100)\n",
        "for i in range(1,10,2):\n",
        "    print(i)\n",
        "\n",
        "for _ in range(1,3):\n",
        "    print('oi...')"
      ],
      "execution_count": 46,
      "outputs": [
        {
          "output_type": "stream",
          "text": [
            "1\n",
            "3\n",
            "5\n",
            "7\n",
            "9\n",
            "oi...\n",
            "oi...\n"
          ],
          "name": "stdout"
        }
      ]
    },
    {
      "cell_type": "code",
      "metadata": {
        "colab": {
          "base_uri": "https://localhost:8080/"
        },
        "id": "iUJrW7vr6M7H",
        "outputId": "eb8c7bf5-f48f-4e60-8e39-3e5ac150d11c"
      },
      "source": [
        "if (True or  # Duvida da aula passada sobre a identação em um if\n",
        "    True or\n",
        "    False):\n",
        "   print('aqui')"
      ],
      "execution_count": 48,
      "outputs": [
        {
          "output_type": "stream",
          "text": [
            "aqui\n"
          ],
          "name": "stdout"
        }
      ]
    },
    {
      "cell_type": "code",
      "metadata": {
        "colab": {
          "base_uri": "https://localhost:8080/"
        },
        "id": "FIlARjWf5G8G",
        "outputId": "b406d539-baa3-424c-b992-399861d74c76"
      },
      "source": [
        "numero = []\n",
        "for _ in range(5):\n",
        "   numero.append(int(input('Digite numero: ')))\n",
        "print(numero)"
      ],
      "execution_count": 49,
      "outputs": [
        {
          "output_type": "stream",
          "text": [
            "Digite numero: 1\n",
            "Digite numero: 3\n",
            "Digite numero: 5\n",
            "Digite numero: 7\n",
            "Digite numero: 9\n",
            "[1, 3, 5, 7, 9]\n"
          ],
          "name": "stdout"
        }
      ]
    },
    {
      "cell_type": "code",
      "metadata": {
        "id": "YDi3YoKIbBaZ",
        "colab": {
          "base_uri": "https://localhost:8080/"
        },
        "outputId": "91b50946-cae8-4cdc-c06d-818e4f815786"
      },
      "source": [
        "# if\n",
        "# Exibir todos os números pares contidos de 1 a 100\n",
        "for x in range(2,101,2): #[::2]:\n",
        "      print(x)"
      ],
      "execution_count": 53,
      "outputs": [
        {
          "output_type": "stream",
          "text": [
            "2\n",
            "4\n",
            "6\n",
            "8\n",
            "10\n",
            "12\n",
            "14\n",
            "16\n",
            "18\n",
            "20\n",
            "22\n",
            "24\n",
            "26\n",
            "28\n",
            "30\n",
            "32\n",
            "34\n",
            "36\n",
            "38\n",
            "40\n",
            "42\n",
            "44\n",
            "46\n",
            "48\n",
            "50\n",
            "52\n",
            "54\n",
            "56\n",
            "58\n",
            "60\n",
            "62\n",
            "64\n",
            "66\n",
            "68\n",
            "70\n",
            "72\n",
            "74\n",
            "76\n",
            "78\n",
            "80\n",
            "82\n",
            "84\n",
            "86\n",
            "88\n",
            "90\n",
            "92\n",
            "94\n",
            "96\n",
            "98\n",
            "100\n"
          ],
          "name": "stdout"
        }
      ]
    },
    {
      "cell_type": "code",
      "metadata": {
        "id": "wej_bsG4bD2I",
        "colab": {
          "base_uri": "https://localhost:8080/"
        },
        "outputId": "f445f59a-4254-4f67-b27e-ceec2afc8df1"
      },
      "source": [
        "# string\n",
        "for c in 'Roberto':\n",
        "    print(c)"
      ],
      "execution_count": null,
      "outputs": [
        {
          "output_type": "stream",
          "text": [
            "R\n",
            "o\n",
            "b\n",
            "e\n",
            "r\n",
            "t\n",
            "o\n"
          ],
          "name": "stdout"
        }
      ]
    },
    {
      "cell_type": "markdown",
      "metadata": {
        "id": "EmdIrgQcbF41"
      },
      "source": [
        "## While\n",
        "\n",
        "Essa estrutura permite repetir um trecho de código enquanto uma condição for verdadeira\n",
        "\n",
        "\n",
        "\n",
        "```python\n",
        "while condição:\n",
        "  # código que vai repetir\n",
        "```\n",
        "\n"
      ]
    },
    {
      "cell_type": "code",
      "metadata": {
        "id": "sTgfmmd9bIgP",
        "colab": {
          "base_uri": "https://localhost:8080/"
        },
        "outputId": "8e1a491e-e575-4536-d46a-d14017733ed5"
      },
      "source": [
        "n = 1\n",
        "while n <= 5:\n",
        "   print(n)\n",
        "   n += 1"
      ],
      "execution_count": 54,
      "outputs": [
        {
          "output_type": "stream",
          "text": [
            "1\n",
            "2\n",
            "3\n",
            "4\n",
            "5\n"
          ],
          "name": "stdout"
        }
      ]
    },
    {
      "cell_type": "code",
      "metadata": {
        "id": "4I0YnbUEbKI-",
        "colab": {
          "base_uri": "https://localhost:8080/"
        },
        "outputId": "5b1235b8-8ea8-4be4-bce0-163f3b5b5576"
      },
      "source": [
        "# Exibir um número x, até que a soma de todos os números exibidos seja 100\n",
        "soma = x = 0\n",
        "while soma < 100:\n",
        "    soma += x\n",
        "    x += 1\n",
        "    print(soma)\n"
      ],
      "execution_count": 55,
      "outputs": [
        {
          "output_type": "stream",
          "text": [
            "0\n",
            "1\n",
            "3\n",
            "6\n",
            "10\n",
            "15\n",
            "21\n",
            "28\n",
            "36\n",
            "45\n",
            "55\n",
            "66\n",
            "78\n",
            "91\n",
            "105\n"
          ],
          "name": "stdout"
        }
      ]
    },
    {
      "cell_type": "code",
      "metadata": {
        "id": "hNZmpTCVbNAe"
      },
      "source": [
        "# else\n"
      ],
      "execution_count": null,
      "outputs": []
    },
    {
      "cell_type": "markdown",
      "metadata": {
        "id": "vZCMZJgBbPLo"
      },
      "source": [
        "## Break, continue, pass\n",
        "\n",
        "- `break`: Para um loop\n",
        "- `continue`: Vai para o próximo loop\n",
        "- `pass`: não faz nada\n",
        "\n",
        "\n",
        "\n",
        "```python\n",
        "while condição:\n",
        "  # código\n",
        "  if teste1:\n",
        "    break\n",
        "  if teste2:\n",
        "    continue\n",
        "  else:\n",
        "    pass\n",
        "```\n",
        "\n"
      ]
    },
    {
      "cell_type": "code",
      "metadata": {
        "colab": {
          "base_uri": "https://localhost:8080/"
        },
        "id": "QXEs7cEpvYTw",
        "outputId": "0f656d03-c3ae-4e4c-9ce0-a45e4d2f053d"
      },
      "source": [
        "x = 0\n",
        "while True:\n",
        "  print('No while')\n",
        "  if x == 0:\n",
        "     x += 1\n",
        "     print('continue')\n",
        "     continue\n",
        "  if x == 1:\n",
        "     x += 1\n",
        "     print('pass')\n",
        "     pass   \n",
        "  if True:\n",
        "     print('true')\n",
        "     break\n",
        "print('End')"
      ],
      "execution_count": 61,
      "outputs": [
        {
          "output_type": "stream",
          "text": [
            "No while\n",
            "continue\n",
            "No while\n",
            "pass\n",
            "true\n",
            "End\n"
          ],
          "name": "stdout"
        }
      ]
    },
    {
      "cell_type": "code",
      "metadata": {
        "id": "M7leccUPbXzy",
        "colab": {
          "base_uri": "https://localhost:8080/"
        },
        "outputId": "72774a4a-eac4-44cc-b2e2-4ac6a1a34f92"
      },
      "source": [
        "'''\n",
        "Imagine que você tem um problema no qual precisa somar todos os números\n",
        "múltiplos de 3 até 1000, ou até a soma ultrapassar 300. Se caso o número\n",
        "seja múltiplo de 3 deve ser exibido \"Buscando...\". Mas caso o número seja\n",
        "múltiplo de 5, nada deve ser exibido.\n",
        "'''\n",
        "\n",
        "soma = 0\n",
        "x = 0\n",
        "\n",
        "while soma < 300: # True: # x < 1000:\n",
        "  x += 1\n",
        "\n",
        "  if (x % 3) == 0:\n",
        "    print(x)\n",
        "    soma += x\n",
        "  else:\n",
        "    if (x % 5) == 0:\n",
        "      pass\n",
        "    else:\n",
        "      print('Buscando...')\n",
        "      continue\n",
        "  \n",
        "  if soma > 300:\n",
        "    print(soma)\n",
        "    break"
      ],
      "execution_count": 65,
      "outputs": [
        {
          "output_type": "stream",
          "text": [
            "Buscando...\n",
            "Buscando...\n",
            "3\n",
            "Buscando...\n",
            "6\n",
            "Buscando...\n",
            "Buscando...\n",
            "9\n",
            "Buscando...\n",
            "12\n",
            "Buscando...\n",
            "Buscando...\n",
            "15\n",
            "Buscando...\n",
            "Buscando...\n",
            "18\n",
            "Buscando...\n",
            "21\n",
            "Buscando...\n",
            "Buscando...\n",
            "24\n",
            "Buscando...\n",
            "27\n",
            "Buscando...\n",
            "Buscando...\n",
            "30\n",
            "Buscando...\n",
            "Buscando...\n",
            "33\n",
            "Buscando...\n",
            "36\n",
            "Buscando...\n",
            "Buscando...\n",
            "39\n",
            "Buscando...\n",
            "42\n",
            "315\n"
          ],
          "name": "stdout"
        }
      ]
    },
    {
      "cell_type": "markdown",
      "metadata": {
        "id": "Leg8dXP8-S4K"
      },
      "source": [
        "# Exercícios Fundamentais"
      ]
    },
    {
      "cell_type": "markdown",
      "metadata": {
        "id": "kZ382Xkk9wda"
      },
      "source": [
        "1. Faça um programa que leia 5 números e informe o maior número."
      ]
    },
    {
      "cell_type": "code",
      "metadata": {
        "id": "BCKAGhdi9v7r",
        "colab": {
          "base_uri": "https://localhost:8080/"
        },
        "outputId": "f223d2dc-d98d-4c0b-d76d-a0ddc271ed96"
      },
      "source": [
        "numeros = []\n",
        "for numero in range(1,6):\n",
        "     numeros.append(float(input('Digite um número: ')))\n",
        "print(f'O maior número digitado foi {max(numeros)}')\n"
      ],
      "execution_count": 75,
      "outputs": [
        {
          "output_type": "stream",
          "text": [
            "Digite um número: 1\n",
            "Digite um número: 2\n",
            "Digite um número: 3\n",
            "Digite um número: 4\n",
            "Digite um número: 5\n",
            "O maior número digitado foi 5.0\n"
          ],
          "name": "stdout"
        }
      ]
    },
    {
      "cell_type": "markdown",
      "metadata": {
        "id": "waqUCAMdc8_x"
      },
      "source": [
        "2. Crie uma lista de locais que você gostaria de conhecer no mundo, na ordem do local que você dá mais prioridade pra o local que você dá menos prioridade. Exiba a lista nas seguintes configurações:\n",
        "\n",
        "a) ordem original<br/>\n",
        "b) ordem alfabética<br/>\n",
        "c) ordem de prioridades inversa<br/>\n",
        "d) quantidade de itens"
      ]
    },
    {
      "cell_type": "code",
      "metadata": {
        "id": "t11oJQzi-SEB",
        "colab": {
          "base_uri": "https://localhost:8080/"
        },
        "outputId": "3319648a-fd87-4ba9-f4a8-62a068a1456b"
      },
      "source": [
        "locais = 'Nova York,Paris,Londres,Bali,Compostela,Ushuaia,Terra Del Fogo,Jerusalem,Marrocos,Egito'.split(',')\n",
        "print(f'Ordem original           : {locais}')\n",
        "print(f'Ordem alfabética         : {sorted(locais)}')\n",
        "print(f'Ordemm prioridade inversa: {locais[::-1]}')\n",
        "print(f'Meus \\\"{len(locais)}\\\" Locais desejados ')"
      ],
      "execution_count": 92,
      "outputs": [
        {
          "output_type": "stream",
          "text": [
            "Ordem original           : ['Nova York', 'Paris', 'Londres', 'Bali', 'Compostela', 'Ushuaia', 'Terra Del Fogo', 'Jerusalem', 'Marrocos', 'Egito']\n",
            "Ordem alfabética         : ['Bali', 'Compostela', 'Egito', 'Jerusalem', 'Londres', 'Marrocos', 'Nova York', 'Paris', 'Terra Del Fogo', 'Ushuaia']\n",
            "Ordemm prioridade inversa: ['Egito', 'Marrocos', 'Jerusalem', 'Terra Del Fogo', 'Ushuaia', 'Compostela', 'Bali', 'Londres', 'Paris', 'Nova York']\n",
            "Meus \"10\" Locais desejados \n"
          ],
          "name": "stdout"
        }
      ]
    },
    {
      "cell_type": "markdown",
      "metadata": {
        "id": "e1GYEn0YdAkx"
      },
      "source": [
        "3. Crie uma lista com os preços dos jogos que você mais gosta.\n",
        "\n",
        "a) Imprima o preço mais caro;<br/>\n",
        "b) Imprima o preço mais barato."
      ]
    },
    {
      "cell_type": "code",
      "metadata": {
        "id": "sCsChAarc-Ii",
        "colab": {
          "base_uri": "https://localhost:8080/"
        },
        "outputId": "a0cdbdf4-5bf8-4253-a9c0-fa0b3f5a5f6e"
      },
      "source": [
        "os.system('cls') # \n",
        "\n",
        "jogos = []\n",
        "precos = []\n",
        "while True:\n",
        "      jogo = input('Digite um jogo que goste: ')\n",
        "      preco = float(input('Digite valor do Jogo  R$: '))\n",
        "      jogos.append(jogo)\n",
        "      precos.append(preco)\n",
        "      if input('Continua ? ').upper() == 'N':\n",
        "         break\n",
        "\n",
        "indCaro = precos.index(max(precos))\n",
        "indBarato = precos.index(min(precos))\n",
        "\n",
        "print(f'O jogo \\\"{jogos[indCaro]}\\\" é o mais caro e custa R$ {precos[indCaro]:.2f}')\n",
        "print(f'O jogo \\\"{jogos[indBarato]}\\\" é o mais barato e custa R$ {precos[indBarato]:.2f}')"
      ],
      "execution_count": 15,
      "outputs": [
        {
          "output_type": "stream",
          "text": [
            "Digite um jogo que goste: Xadrez\n",
            "Digite valor do Jogo  R$: 10.50\n",
            "Continua ? Damas\n",
            "Digite um jogo que goste: Damas\n",
            "Digite valor do Jogo  R$: 11.75\n",
            "Continua ? n\n",
            "O jogo \"Damas\" é o mais caro e custa R$ 11.75\n",
            "O jogo \"Xadrez\" é o mais barato e custa R$ 10.50\n"
          ],
          "name": "stdout"
        }
      ]
    },
    {
      "cell_type": "markdown",
      "metadata": {
        "id": "Gv_06OQY_LYz"
      },
      "source": [
        "4. escrever um programa em Python que leia um vetor V1 de n posições e gere um vetor V2 de tamanho n que é o vetor V1 invertido."
      ]
    },
    {
      "cell_type": "code",
      "metadata": {
        "id": "Y6xF_zQk_M7X",
        "colab": {
          "base_uri": "https://localhost:8080/"
        },
        "outputId": "60742fd6-861a-4a0b-ce49-5543fed9ce22"
      },
      "source": [
        "v1 = [1, 2, 3, 4, 5, 6, 7, 8, 9]\n",
        "v2 = sorted(v1, reverse=True)\n",
        "print(v1)\n",
        "print(v2)"
      ],
      "execution_count": 45,
      "outputs": [
        {
          "output_type": "stream",
          "text": [
            "[1, 2, 3, 4, 5, 6, 7, 8, 9]\n",
            "[9, 8, 7, 6, 5, 4, 3, 2, 1]\n"
          ],
          "name": "stdout"
        }
      ]
    },
    {
      "cell_type": "markdown",
      "metadata": {
        "id": "1EYaajrx92Bp"
      },
      "source": [
        "5. Faça um programa que imprima na tela apenas os números ímpares entre 1 e 50."
      ]
    },
    {
      "cell_type": "code",
      "metadata": {
        "id": "XitwcXAJ9OgU",
        "colab": {
          "base_uri": "https://localhost:8080/"
        },
        "outputId": "063be835-1afa-4c18-a62d-8a3cc058581f"
      },
      "source": [
        "print(f'Números ímpares de 1 a 50: {list(range(1,50,2))}')"
      ],
      "execution_count": 107,
      "outputs": [
        {
          "output_type": "stream",
          "text": [
            "Números ímpares de 1 a 50: [1, 3, 5, 7, 9, 11, 13, 15, 17, 19, 21, 23, 25, 27, 29, 31, 33, 35, 37, 39, 41, 43, 45, 47, 49]\n"
          ],
          "name": "stdout"
        }
      ]
    },
    {
      "cell_type": "markdown",
      "metadata": {
        "id": "PteWHpCZbYz3"
      },
      "source": [
        "6. Faça um programa que recebe um número de 1 a 10 do usuário e imprime a tabuada de multiplicação desse número"
      ]
    },
    {
      "cell_type": "code",
      "metadata": {
        "id": "UOk2F2EkbbNE",
        "colab": {
          "base_uri": "https://localhost:8080/"
        },
        "outputId": "076bfddf-b5fa-4af2-b154-fd179e900846"
      },
      "source": [
        "numero = int(input('Digite um número de 1 a 10: '))\n",
        "if numero > 0 and numero < 11:\n",
        "   for x in range(1,11):\n",
        "       print(f'{x:2.0f} x {numero} = {x * numero:2.0f}')"
      ],
      "execution_count": 58,
      "outputs": [
        {
          "output_type": "stream",
          "text": [
            "Digite um número de 1 a 10: 7\n",
            " 1 x 7 =  7\n",
            " 2 x 7 = 14\n",
            " 3 x 7 = 21\n",
            " 4 x 7 = 28\n",
            " 5 x 7 = 35\n",
            " 6 x 7 = 42\n",
            " 7 x 7 = 49\n",
            " 8 x 7 = 56\n",
            " 9 x 7 = 63\n",
            "10 x 7 = 70\n"
          ],
          "name": "stdout"
        }
      ]
    },
    {
      "cell_type": "markdown",
      "metadata": {
        "id": "L43i6yySbffb"
      },
      "source": [
        "7. Faça um programa que recebe do usuário 10 valores de números inteiros, armazena em um vetor e apos percorre-lo exibe qual é o maior valor e a sua posição."
      ]
    },
    {
      "cell_type": "code",
      "metadata": {
        "id": "ljYHe-urbgqX",
        "colab": {
          "base_uri": "https://localhost:8080/"
        },
        "outputId": "b3dd448c-171c-4618-c06b-6d0ff89f7d88"
      },
      "source": [
        "numeros = []\n",
        "\n",
        "for numero in range(1,11):\n",
        "    numeros.append(int(input('Digite um numero: ')))\n",
        "\n",
        "print(f'\\nO Maior valor digitado foi \\\"{max(numeros)}\\\" é ele foi o \\\"{numeros.index(max(numeros))+1}°\\\" digitado.')\n",
        "#print(f'O jogo \\\"{jogos[indBarato]}\\\" é o mais barato e custa R$ {precos[indBarato]:.2f}')"
      ],
      "execution_count": 70,
      "outputs": [
        {
          "output_type": "stream",
          "text": [
            "Digite um numero: 100\n",
            "Digite um numero: 2\n",
            "Digite um numero: 2\n",
            "Digite um numero: 2\n",
            "Digite um numero: 2\n",
            "Digite um numero: 2\n",
            "Digite um numero: 2\n",
            "Digite um numero: 777\n",
            "Digite um numero: 8\n",
            "Digite um numero: 9\n",
            "\n",
            "O Maior valor digitado foi \"777\" é ele foi o \"8°\" digitado.\n"
          ],
          "name": "stdout"
        }
      ]
    },
    {
      "cell_type": "markdown",
      "metadata": {
        "id": "YY-qlVJB-VDV"
      },
      "source": [
        "# Exercícios de Aprofundamento"
      ]
    },
    {
      "cell_type": "markdown",
      "metadata": {
        "id": "Ybiuu82SdFTb"
      },
      "source": [
        "1. Faça um programa que peça uma nota, entre zero e dez. Mostre uma mensagem caso o valor seja inválido e continue pedindo até que o usuário informe um valor válido."
      ]
    },
    {
      "cell_type": "code",
      "metadata": {
        "id": "KBvrLhgu9ljj",
        "colab": {
          "base_uri": "https://localhost:8080/"
        },
        "outputId": "fc3c3cf3-c278-4a83-a84b-24110706bc9e"
      },
      "source": [
        "while True:\n",
        "    nota = int(input('Digite uma nota de zero a dez: '))\n",
        "    if nota < 0 or nota > 10:\n",
        "       print('Nota invalida, tente novamente!') \n",
        "    else: \n",
        "       break\n",
        "print(f'A nota digitada foi \\\"{nota}\\\".')       "
      ],
      "execution_count": 79,
      "outputs": [
        {
          "output_type": "stream",
          "text": [
            "Digite uma nota de zero a dez: 11\n",
            "Nota invalida, tente novamente!\n",
            "Digite uma nota de zero a dez: 7\n",
            "A nota digitada foi \"7\".\n"
          ],
          "name": "stdout"
        }
      ]
    },
    {
      "cell_type": "markdown",
      "metadata": {
        "id": "vKGE2y7_dGvH"
      },
      "source": [
        "2. Faça um programa que leia um nome de usuário e a sua senha e não aceite a senha igual ao nome do usuário, mostrando uma mensagem de erro e voltando a pedir as informações."
      ]
    },
    {
      "cell_type": "code",
      "metadata": {
        "id": "hPEhLtZw9r7E",
        "colab": {
          "base_uri": "https://localhost:8080/"
        },
        "outputId": "14ea6a9f-9b4a-49ad-81eb-f5498b2b4aa2"
      },
      "source": [
        "while True:\n",
        "    nome = input('Digite o nome de usuário: ')\n",
        "    senha = input('Digite a sua senha: ')\n",
        "    if nome == senha:\n",
        "       print('Erro, nome igual a senha! Tente novamente!') \n",
        "    else: \n",
        "       break"
      ],
      "execution_count": 86,
      "outputs": [
        {
          "output_type": "stream",
          "text": [
            "Digite o nome de usuário: Maia\n",
            "Digite a sua senha: Maia\n",
            "Erro, nome igual a senha! Tente novamente!\n",
            "Digite o nome de usuário: Roberto\n",
            "Digite a sua senha: Maia\n"
          ],
          "name": "stdout"
        }
      ]
    },
    {
      "cell_type": "markdown",
      "metadata": {
        "id": "btYVZaX4-D5x"
      },
      "source": [
        "3. Encontrar números primos é uma tarefa difícil. Faça um programa que gera uma lista dos números primos existentes entre 1 e um número inteiro informado pelo usuário."
      ]
    },
    {
      "cell_type": "code",
      "metadata": {
        "id": "GbX6xnPN-Fmw",
        "colab": {
          "base_uri": "https://localhost:8080/"
        },
        "outputId": "e4c306f7-8cab-48d3-cb99-c3d96ee01d56"
      },
      "source": [
        "limite = int(input('Digite o numero : '))\n",
        "primos = []\n",
        "a = 0\n",
        "while (a <= limite): \n",
        "    resto = 0\n",
        "    for x in range(2,a):\n",
        "        if (a % x == 0):\n",
        "            resto += 1\n",
        "        \n",
        "    if resto == 0:\n",
        "        primos.append(a)\n",
        "    a += 1    \n",
        "print(primos)  "
      ],
      "execution_count": 101,
      "outputs": [
        {
          "output_type": "stream",
          "text": [
            "Digite o numero : 150\n",
            "[0, 1, 2, 3, 5, 7, 11, 13, 17, 19, 23, 29, 31, 37, 41, 43, 47, 53, 59, 61, 67, 71, 73, 79, 83, 89, 97, 101, 103, 107, 109, 113, 127, 131, 137, 139, 149]\n"
          ],
          "name": "stdout"
        }
      ]
    },
    {
      "cell_type": "markdown",
      "metadata": {
        "id": "myuOo0Bv-Q4R"
      },
      "source": [
        "4. Faça um programa que calcule o mostre a média aritmética de N notas."
      ]
    },
    {
      "cell_type": "code",
      "metadata": {
        "id": "vmwHPB-Y93lK",
        "colab": {
          "base_uri": "https://localhost:8080/"
        },
        "outputId": "b2c67dde-d525-48b4-c10d-27ce2f27d663"
      },
      "source": [
        "notas = [69, 70, 55, 44]\n",
        "media = sum(notas) / len(notas)\n",
        "print(f'A média das {len(notas)} notas é \\\"{media:.2f}\\\"')"
      ],
      "execution_count": 113,
      "outputs": [
        {
          "output_type": "stream",
          "text": [
            "A média das 4 notas é \"59.50\"\n"
          ],
          "name": "stdout"
        }
      ]
    }
  ]
}