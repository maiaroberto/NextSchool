{
  "nbformat": 4,
  "nbformat_minor": 0,
  "metadata": {
    "colab": {
      "name": "Cópia de [E] Aula 01 - Tipos de Dados e Operadores Aritméticos.ipynb",
      "provenance": [],
      "collapsed_sections": [],
      "include_colab_link": true
    },
    "kernelspec": {
      "name": "python3",
      "display_name": "Python 3"
    }
  },
  "cells": [
    {
      "cell_type": "markdown",
      "metadata": {
        "id": "view-in-github",
        "colab_type": "text"
      },
      "source": [
        "<a href=\"https://colab.research.google.com/github/maiaroberto/NextSchool/blob/main/C%C3%B3pia_de_%5BE%5D_Aula_01_Tipos_de_Dados_e_Operadores_Aritm%C3%A9ticos.ipynb\" target=\"_parent\"><img src=\"https://colab.research.google.com/assets/colab-badge.svg\" alt=\"Open In Colab\"/></a>"
      ]
    },
    {
      "cell_type": "markdown",
      "metadata": {
        "id": "9ujEVvoCTM6p"
      },
      "source": [
        "<img src=\"https://www.cesar.school/wp-content/uploads/2019/09/marca_cesar_school.png\" alt=\"drawing\" width=\"200\"/>\n",
        "\n",
        "# Python - **Aula 01**\n",
        "\n",
        "---\n",
        "\n",
        "- Entender conceitos básicos sobre programação;\n",
        "- Conhecer a linguagem Python;\n",
        "- Criar seu primeiro programa em Python;"
      ]
    },
    {
      "cell_type": "markdown",
      "metadata": {
        "id": "L1rO4J92bWIu"
      },
      "source": [
        "#Compreendendo as variáveis\n",
        "\n",
        "Em termos técnicos, uma variável atribui um local de armazenamento a um valor que está vinculado a um nome ou identificador simbólico. O nome da variável é usado para fazer referência a esse valor armazenado em um programa de computador."
      ]
    },
    {
      "cell_type": "code",
      "metadata": {
        "id": "gbAP6hlEbYeI",
        "colab": {
          "base_uri": "https://localhost:8080/"
        },
        "outputId": "9118c29a-e888-40e6-8a6d-2e853eec417c"
      },
      "source": [
        "my_int = 103204934813\n",
        "my_old = 58\n",
        "my_int\n",
        "my_old"
      ],
      "execution_count": null,
      "outputs": [
        {
          "output_type": "execute_result",
          "data": {
            "text/plain": [
              "58"
            ]
          },
          "metadata": {
            "tags": []
          },
          "execution_count": 1
        }
      ]
    },
    {
      "cell_type": "markdown",
      "metadata": {
        "id": "AVxtUEgYxRio"
      },
      "source": [
        "*   o nome da variável `my_int`\n",
        "*   o operador de atribuição, também conhecido como sinal de igual `=`\n",
        "*   o valor que está sendo vinculado ao nome da variável `103204934813`"
      ]
    },
    {
      "cell_type": "markdown",
      "metadata": {
        "id": "AFQKUYj3c1It"
      },
      "source": [
        "## Regras para criação de nomes de variáveis:\n",
        "\n",
        "- Não pode começar com número;\n",
        "- Não pode haver espaço (use `_`);\n",
        "- Não pode haver caracteres especiais: `\" ' , < > | / \\ ( ) @ ! # $ % ^ & * ~ - +`\n",
        "\n",
        "##Reatribuindo Variáveis"
      ]
    },
    {
      "cell_type": "code",
      "metadata": {
        "id": "S3sVtJ7aucvi"
      },
      "source": [
        ""
      ],
      "execution_count": null,
      "outputs": []
    },
    {
      "cell_type": "markdown",
      "metadata": {
        "id": "UUnLyISHNT2K"
      },
      "source": [
        "##Atribuição múltipla\n",
        "\n",
        "Com Python, você pode atribuir um único valor a várias variáveis ​​ao mesmo tempo. Isso permite inicializar várias variáveis ​​de uma vez, que você mesmo pode reatribuir posteriormente no programa ou por meio da entrada do usuário."
      ]
    },
    {
      "cell_type": "code",
      "metadata": {
        "id": "HtUBkYLeNbgz"
      },
      "source": [
        ""
      ],
      "execution_count": null,
      "outputs": []
    },
    {
      "cell_type": "markdown",
      "metadata": {
        "id": "WHLD7iQHzhc9"
      },
      "source": [
        "\n",
        "#Criação e impressão de strings\n",
        "\n",
        "Strings existem entre aspas simples `'` ou duplas `\"` em Python, portanto, para criar uma string, coloque uma sequência de caracteres em um ou outro."
      ]
    },
    {
      "cell_type": "code",
      "metadata": {
        "id": "pT8v2fX3T0P_"
      },
      "source": [
        "'Esta é uma string entre aspas simples.'\n",
        "\"Esta é uma string entre aspas duplas.\""
      ],
      "execution_count": null,
      "outputs": []
    },
    {
      "cell_type": "markdown",
      "metadata": {
        "id": "koA9l9SLvGgv"
      },
      "source": [
        "Podemos imprimir strings simplesmente chamando a função `print()`"
      ]
    },
    {
      "cell_type": "code",
      "metadata": {
        "id": "Q2e1z7ECvOhm"
      },
      "source": [
        "# Print em Python\n"
      ],
      "execution_count": null,
      "outputs": []
    },
    {
      "cell_type": "markdown",
      "metadata": {
        "id": "FfEWOwmhVLhE"
      },
      "source": [
        "##Sintaxe do comentário\n",
        "Os comentários em Python começam com uma marca de hash `#` e um caractere de espaço em branco e continuam até o final da linha.\n",
        "\n",
        "Geralmente, os comentários serão semelhantes a este:"
      ]
    },
    {
      "cell_type": "code",
      "metadata": {
        "id": "I8hKONOyVQOw"
      },
      "source": [
        "# comentário de linha\n",
        "'''comentário de bloco'''"
      ],
      "execution_count": null,
      "outputs": []
    },
    {
      "cell_type": "markdown",
      "metadata": {
        "id": "W7GPfOkUwNgg"
      },
      "source": [
        "##Comentários Inline\n",
        "Os comentários Iinline ocorrem na mesma linha de uma instrução, seguindo o próprio código.\n",
        "\n",
        "Geralmente, os comentários inline são assim:"
      ]
    },
    {
      "cell_type": "code",
      "metadata": {
        "id": "9BlI5KrMwkQ1"
      },
      "source": [
        "x = 8"
      ],
      "execution_count": null,
      "outputs": []
    },
    {
      "cell_type": "markdown",
      "metadata": {
        "id": "WsXf_ireWQZd"
      },
      "source": [
        "# Tipos de dados\n",
        "\n",
        "## Numéricos\n",
        "- `int` - Inteiros\n",
        "- `float` - Pontos Flutuantes\n",
        "\n",
        "## Texto\n",
        "- `str` - String\n",
        "\n",
        "## Booleano\n",
        "- `bool` - `True` ou `False`\n",
        "\n",
        "##Listas\n",
        "- `list` - [ ]\n",
        "\n",
        "##Tuplas\n",
        "- `tuples` - ( )\n",
        "\n",
        "##Dicionários\n",
        "- `dictionary` - { }\n",
        "\n",
        "> Função `type()`"
      ]
    },
    {
      "cell_type": "code",
      "metadata": {
        "id": "LrgPw5AZWYBY"
      },
      "source": [
        ""
      ],
      "execution_count": null,
      "outputs": []
    },
    {
      "cell_type": "markdown",
      "metadata": {
        "id": "qf0JgZfioSeU"
      },
      "source": [
        "# ENTRADA DE DADOS\n",
        "Entrada de Dados refere-se a entrada de dados do mundo externo para o meio digital.\n",
        "\n",
        "Sintaxe da função input()\n",
        "\n",
        "```variável = input(mensagem opcional)```\n"
      ]
    },
    {
      "cell_type": "code",
      "metadata": {
        "id": "0Ac7eUAxoaJB"
      },
      "source": [
        ""
      ],
      "execution_count": null,
      "outputs": []
    },
    {
      "cell_type": "markdown",
      "metadata": {
        "id": "gJStn9uApEa4"
      },
      "source": [
        "#Funções para conversão de tipo\n",
        "\n",
        "Algumas vezes é necessário converter valores de um tipo para outro. As funções int, float e str tentarão converter seus argumentos para os tipos int, float e str, respectivamente. Nós chamamos elas de funções para conversão de tipos."
      ]
    },
    {
      "cell_type": "markdown",
      "metadata": {
        "id": "WLn0pnTqnBh3"
      },
      "source": [
        "##Convertendo os tipos de número"
      ]
    },
    {
      "cell_type": "code",
      "metadata": {
        "id": "ZCEYln4WsTL5"
      },
      "source": [
        "# Convertendo os números inteiros em floats\n",
        "\n",
        "\n",
        "# Convertendo floats em inteiros\n",
        "\n",
        "\n",
        "# Números convertidos através de divisão\n"
      ],
      "execution_count": null,
      "outputs": []
    },
    {
      "cell_type": "markdown",
      "metadata": {
        "id": "unA7FMpPsp2q"
      },
      "source": [
        "##Convertendo com as strings"
      ]
    },
    {
      "cell_type": "code",
      "metadata": {
        "id": "OSKDPD4_s0so"
      },
      "source": [
        "# Convertendo números em strings\n",
        "\n",
        "\n",
        "# Convertendo strings em números\n",
        "\n",
        "# --------------------------\n"
      ],
      "execution_count": null,
      "outputs": []
    },
    {
      "cell_type": "markdown",
      "metadata": {
        "id": "6fOqcWCyYMit"
      },
      "source": [
        "# Operações Aritméticas\n",
        "\n",
        "`x + y`\tSoma de X e Y\n",
        "\n",
        "`x - y`\tSubtração de X e Y\n",
        "\n",
        "`-x`\tSinal alterado de X\n",
        "\n",
        "`+x`\tIdentidade de X\n",
        "\n",
        "`x * y`\tMultiplicação de X e Y\n",
        "\n",
        "`x / y`\tDivisão de X e X\n",
        "\n",
        "`x // y`\tDivisão de X e Y com resultado em inteiro\n",
        "\n",
        "`x % y`\tResto da divisão de X / Y\n",
        "\n",
        "`x ** y`\tX elevado a Y"
      ]
    },
    {
      "cell_type": "code",
      "metadata": {
        "id": "22HRvNH8YbN4"
      },
      "source": [
        ""
      ],
      "execution_count": null,
      "outputs": []
    },
    {
      "cell_type": "code",
      "metadata": {
        "id": "ENKf-mJAZRle"
      },
      "source": [
        ""
      ],
      "execution_count": null,
      "outputs": []
    },
    {
      "cell_type": "code",
      "metadata": {
        "id": "FuYK_oc9ZT-X"
      },
      "source": [
        ""
      ],
      "execution_count": null,
      "outputs": []
    },
    {
      "cell_type": "code",
      "metadata": {
        "id": "6TUrxlpLZZYP"
      },
      "source": [
        ""
      ],
      "execution_count": null,
      "outputs": []
    },
    {
      "cell_type": "code",
      "metadata": {
        "id": "HThziQMoZeR-"
      },
      "source": [
        ""
      ],
      "execution_count": null,
      "outputs": []
    },
    {
      "cell_type": "markdown",
      "metadata": {
        "id": "PbswAVPDQWGU"
      },
      "source": [
        "#Operações Aritméticas Unárias\n",
        "\n",
        "Uma expressão matemática unária consiste em apenas um componente ou elemento e, em Python, os sinais de mais e menos podem ser usados ​​como um único elemento emparelhado com um valor para retornar a identidade do valor (`+`) ou alterar o sinal do valor (`-`)."
      ]
    },
    {
      "cell_type": "code",
      "metadata": {
        "id": "V_k9cZFmRE5D"
      },
      "source": [
        ""
      ],
      "execution_count": null,
      "outputs": []
    },
    {
      "cell_type": "code",
      "metadata": {
        "id": "A4LmTWTFRO--"
      },
      "source": [
        ""
      ],
      "execution_count": null,
      "outputs": []
    },
    {
      "cell_type": "markdown",
      "metadata": {
        "id": "N5isIh00MSET"
      },
      "source": [
        "A ordem da operação aritmética importa!"
      ]
    },
    {
      "cell_type": "code",
      "metadata": {
        "id": "sukjPYA-aIJ2"
      },
      "source": [
        "total1 = 2 + 10 * 10 - 5\n",
        "print(total1)"
      ],
      "execution_count": null,
      "outputs": []
    },
    {
      "cell_type": "code",
      "metadata": {
        "id": "9VzHixciaWmH"
      },
      "source": [
        "total2 = (2 + 10) * (10 - 5)\n",
        "print(total2)"
      ],
      "execution_count": null,
      "outputs": []
    },
    {
      "cell_type": "code",
      "metadata": {
        "id": "Wz47pP7DMqNA"
      },
      "source": [
        "total3 = 20 + 5 * 2;\n",
        "print(total3)"
      ],
      "execution_count": null,
      "outputs": []
    },
    {
      "cell_type": "code",
      "metadata": {
        "id": "qlxTpJG9mDpw"
      },
      "source": [
        "total4 = (20 + 5) * 2;\n",
        "print(total4)"
      ],
      "execution_count": null,
      "outputs": []
    },
    {
      "cell_type": "code",
      "metadata": {
        "id": "Qime-C8AmFUY"
      },
      "source": [
        "total5 = 20 / 2 * 5;\n",
        "print(total5)"
      ],
      "execution_count": null,
      "outputs": []
    },
    {
      "cell_type": "code",
      "metadata": {
        "id": "yKZ8c78CmGcB"
      },
      "source": [
        "total6 = 10 + 10 * 2 + 20 / 2;\n",
        "print(total6)"
      ],
      "execution_count": null,
      "outputs": []
    },
    {
      "cell_type": "markdown",
      "metadata": {
        "id": "Ohy7mWPJRWbJ"
      },
      "source": [
        "##Operadores de atribuição\n",
        "\n",
        "\n",
        "* `+=` - - adiciona e atribui o valor\n",
        "* `-=` - - subtrai e atribui o valor\n",
        "* `*=` - - multiplica e atribui o valor\n",
        "* `/=` - - divide e atribui o valor\n",
        "* `//=` - - divide e depois atribuir o valor em inteiro\n",
        "* `**=` - - aumentar a potência e então atribuir o valor\n",
        "* `%=` - - retorna o resto da divisão e depois atribui o valor\n",
        "\n"
      ]
    },
    {
      "cell_type": "code",
      "metadata": {
        "id": "wASxPioUTGTA"
      },
      "source": [
        "y = 0\n",
        "y += 1\n",
        "y -= 1\n",
        "y *= 2\n",
        "y /= 3\n",
        "y //= 5\n",
        "y **= 2\n",
        "y %= 3"
      ],
      "execution_count": null,
      "outputs": []
    },
    {
      "cell_type": "markdown",
      "metadata": {
        "id": "ALgn8jEOXI8m"
      },
      "source": [
        "# Exercícios\n",
        "\n",
        "1. Faça um Programa que mostre a mensagem \"Alo mundo\" na tela"
      ]
    },
    {
      "cell_type": "code",
      "metadata": {
        "id": "E-tm-Ac-dkKI"
      },
      "source": [
        ""
      ],
      "execution_count": null,
      "outputs": []
    },
    {
      "cell_type": "markdown",
      "metadata": {
        "id": "H9Xmh3n0dku7"
      },
      "source": [
        "\n",
        "2. Faça um Programa que peça um número e então mostre a mensagem O número informado foi [número]."
      ]
    },
    {
      "cell_type": "code",
      "metadata": {
        "id": "oJxXXoQMePMm"
      },
      "source": [
        ""
      ],
      "execution_count": null,
      "outputs": []
    },
    {
      "cell_type": "markdown",
      "metadata": {
        "id": "Mc8ww-KEdndf"
      },
      "source": [
        "\n",
        "3. Faça um Programa que peça dois números e imprima a soma."
      ]
    },
    {
      "cell_type": "code",
      "metadata": {
        "id": "SfwZe2zseO3m"
      },
      "source": [
        ""
      ],
      "execution_count": null,
      "outputs": []
    },
    {
      "cell_type": "markdown",
      "metadata": {
        "id": "MfVY2KazdpxA"
      },
      "source": [
        "\n",
        "4. Faça um Programa que peça as 4 notas bimestrais e mostre a média."
      ]
    },
    {
      "cell_type": "code",
      "metadata": {
        "id": "B5dg4jyLeOV9"
      },
      "source": [
        ""
      ],
      "execution_count": null,
      "outputs": []
    },
    {
      "cell_type": "markdown",
      "metadata": {
        "id": "GYPjRaE1dsEo"
      },
      "source": [
        "\n",
        "5. Faça um Programa que converta metros para centímetros."
      ]
    },
    {
      "cell_type": "code",
      "metadata": {
        "id": "bDTpB4hxeOAS"
      },
      "source": [
        ""
      ],
      "execution_count": null,
      "outputs": []
    },
    {
      "cell_type": "markdown",
      "metadata": {
        "id": "Iw_6PGlvdt2P"
      },
      "source": [
        "\n",
        "6. Faça um Programa que peça o raio de um círculo, calcule e mostre sua área."
      ]
    },
    {
      "cell_type": "code",
      "metadata": {
        "id": "QBB456-ceNox"
      },
      "source": [
        ""
      ],
      "execution_count": null,
      "outputs": []
    },
    {
      "cell_type": "markdown",
      "metadata": {
        "id": "6WX2yHw8dvgh"
      },
      "source": [
        "\n",
        "7. Faça um Programa que calcule a área de um quadrado, em seguida mostre o dobro desta área para o usuário."
      ]
    },
    {
      "cell_type": "code",
      "metadata": {
        "id": "bq1uTrxieNIi"
      },
      "source": [
        ""
      ],
      "execution_count": null,
      "outputs": []
    },
    {
      "cell_type": "markdown",
      "metadata": {
        "id": "OHtr_FwmdxNL"
      },
      "source": [
        "\n",
        "8. Faça um Programa que pergunte quanto você ganha por hora e o número de horas trabalhadas no mês. Calcule e mostre o total do seu salário no referido mês."
      ]
    },
    {
      "cell_type": "code",
      "metadata": {
        "id": "r8eK89x0eMzi"
      },
      "source": [
        ""
      ],
      "execution_count": null,
      "outputs": []
    },
    {
      "cell_type": "markdown",
      "metadata": {
        "id": "OTc5-XqodzSn"
      },
      "source": [
        "\n",
        "9. Faça um Programa que peça a temperatura em graus Fahrenheit, transforme e mostre a temperatura em graus Celsius.\n",
        "> C = 5 * ((F-32) / 9)."
      ]
    },
    {
      "cell_type": "code",
      "metadata": {
        "id": "bfkUM9cceMbv"
      },
      "source": [
        ""
      ],
      "execution_count": null,
      "outputs": []
    },
    {
      "cell_type": "markdown",
      "metadata": {
        "id": "E17ya82wd1rv"
      },
      "source": [
        "\n",
        "10. Faça um Programa que peça a temperatura em graus Celsius, transforme e mostre em graus Fahrenheit."
      ]
    },
    {
      "cell_type": "code",
      "metadata": {
        "id": "5f6H4KPoeMBf"
      },
      "source": [
        ""
      ],
      "execution_count": null,
      "outputs": []
    },
    {
      "cell_type": "markdown",
      "metadata": {
        "id": "gfkqRT1hd5Uq"
      },
      "source": [
        "\n",
        "11. Faça um Programa que peça 2 números inteiros e um número real. Calcule e mostre:\n",
        "    - o produto do dobro do primeiro com metade do segundo.\n",
        "    - soma do triplo do primeiro com o terceiro.\n",
        "    - terceiro elevado ao cubo."
      ]
    },
    {
      "cell_type": "code",
      "metadata": {
        "id": "U0LGrxCYeLbT"
      },
      "source": [
        ""
      ],
      "execution_count": null,
      "outputs": []
    },
    {
      "cell_type": "markdown",
      "metadata": {
        "id": "GeccMwZid7LV"
      },
      "source": [
        "\n",
        "12. Tendo como dados de entrada a altura de uma pessoa, construa um algoritmo que calcule seu peso ideal, usando a seguinte fórmula: (72.7*altura) - 58"
      ]
    },
    {
      "cell_type": "code",
      "metadata": {
        "id": "KG7NZMI4eK-R"
      },
      "source": [
        ""
      ],
      "execution_count": null,
      "outputs": []
    },
    {
      "cell_type": "markdown",
      "metadata": {
        "id": "TGfnvz6rd9Q3"
      },
      "source": [
        "\n",
        "13. Tendo como dado de entrada a altura (h) de uma pessoa, construa um algoritmo que calcule seu peso ideal, utilizando as seguintes fórmulas:\n",
        "    - Para homens: (72.7*h) - 58\n",
        "    - Para mulheres: (62.1*h) - 44.7"
      ]
    },
    {
      "cell_type": "code",
      "metadata": {
        "id": "OmLkbOULeKjQ"
      },
      "source": [
        ""
      ],
      "execution_count": null,
      "outputs": []
    },
    {
      "cell_type": "markdown",
      "metadata": {
        "id": "rUcxxTf6d_4G"
      },
      "source": [
        "\n",
        "14. João Papo-de-Pescador, homem de bem, comprou um microcomputador para controlar o rendimento diário de seu trabalho. Toda vez que ele traz um peso de peixes maior que o estabelecido pelo regulamento de pesca do estado de São Paulo (50 quilos) deve pagar uma multa de R\\$ 4,00 por quilo excedente. João precisa que você faça um programa que leia a variável peso (peso de peixes) e calcule o excesso. Gravar na variável excesso a quantidade de quilos além do limite e na variável multa o valor da multa que João deverá pagar. Imprima os dados do programa com as mensagens adequadas."
      ]
    },
    {
      "cell_type": "code",
      "metadata": {
        "id": "LacOhDYmeKAW"
      },
      "source": [
        ""
      ],
      "execution_count": null,
      "outputs": []
    },
    {
      "cell_type": "markdown",
      "metadata": {
        "id": "XH9X194beCpW"
      },
      "source": [
        "\n",
        "15. Faça um Programa que pergunte quanto você ganha por hora e o número de horas trabalhadas no mês. Calcule e mostre o total do seu salário no referido mês, sabendo-se que são descontados 11% para o Imposto de Renda, 8% para o INSS e 5% para o sindicato, faça um programa que nos dê:\n",
        "    - salário bruto.\n",
        "    - quanto pagou ao INSS.\n",
        "    - quanto pagou ao sindicato.\n",
        "    - o salário líquido.\n",
        "    - calcule os descontos e o salário líquido, conforme a tabela abaixo:\n",
        "\n",
        "```\n",
        "            + Salário Bruto : R$\n",
        "            - IR (11%) : R$\n",
        "            - INSS (8%) : R$\n",
        "            - Sindicato ( 5%) : R$\n",
        "            = Salário Liquido : R$\n",
        "```\n",
        "> Obs.: Salário Bruto - Descontos = Salário Líquido.\n"
      ]
    },
    {
      "cell_type": "code",
      "metadata": {
        "id": "bTjIis6yeJDi"
      },
      "source": [
        ""
      ],
      "execution_count": null,
      "outputs": []
    },
    {
      "cell_type": "markdown",
      "metadata": {
        "id": "dQgoUp4FeEjs"
      },
      "source": [
        "\n",
        "16. Faça um programa para uma loja de tintas. O programa deverá pedir o tamanho em metros quadrados da área a ser pintada. Considere que a cobertura da tinta é de 1 litro para cada 3 metros quadrados e que a tinta é vendida em latas de 18 litros, que custam R\\$ 80,00. Informe ao usuário a quantidades de latas de tinta a serem compradas e o preço total. Obs.: somente são vendidos um número inteiro de latas."
      ]
    },
    {
      "cell_type": "code",
      "metadata": {
        "id": "BLgRrbqteIiY"
      },
      "source": [
        ""
      ],
      "execution_count": null,
      "outputs": []
    },
    {
      "cell_type": "markdown",
      "metadata": {
        "id": "aDlscibneF_-"
      },
      "source": [
        "\n",
        "17. Faça um Programa para uma loja de tintas. O programa deverá pedir o tamanho em metros quadrados da área a ser pintada. Considere que a cobertura da tinta é de 1 litro para cada 6 metros quadrados e que a tinta é vendida em latas de 18 litros, que custam R\\$ 80,00 ou em galões de 3,6 litros, que custam R\\$ 25,00.\n",
        "  - Informe ao usuário as quantidades de tinta a serem compradas e os respectivos preços em 3 situações:\n",
        "  - comprar apenas latas de 18 litros;\n",
        "  - comprar apenas galões de 3,6 litros;\n",
        "  - misturar latas e galões, de forma que o desperdício de tinta seja menor. Acrescente 10% de folga e sempre arredonde os valores para cima, isto é, considere latas cheias."
      ]
    },
    {
      "cell_type": "code",
      "metadata": {
        "id": "wH56ThFaeIOx"
      },
      "source": [
        ""
      ],
      "execution_count": null,
      "outputs": []
    },
    {
      "cell_type": "markdown",
      "metadata": {
        "id": "nsH6ogQWeHGf"
      },
      "source": [
        "\n",
        "18. Faça um programa que peça o tamanho de um arquivo para download (em MB) e a velocidade de um link de Internet (em Mbps), calcule e informe o tempo aproximado de download do arquivo usando este link (em minutos)."
      ]
    },
    {
      "cell_type": "code",
      "metadata": {
        "id": "KfQCgryMeHsf"
      },
      "source": [
        ""
      ],
      "execution_count": null,
      "outputs": []
    }
  ]
}